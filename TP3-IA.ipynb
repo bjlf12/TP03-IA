{
 "cells": [
  {
   "cell_type": "markdown",
   "id": "convertible-cameroon",
   "metadata": {},
   "source": [
    "### Instituto Tecnologico de Costa Rica (ITCR)\n",
    "### Sede Interuniversitaria de Alajuela\n",
    "### Escuela de Computacion\n",
    "### Curso: Inteligencia Artificial\n",
    "### Estudiantes: \n",
    "\n",
    " - Brandon Ledezma Fernández - 2018185574\n",
    " - Walter Morales Vásquez - 2018212846\n",
    "\n",
    "### Profesora:\n",
    " \n",
    " - Maria Auxiliadora Mora\n"
   ]
  },
  {
   "cell_type": "markdown",
   "id": "professional-double",
   "metadata": {},
   "source": [
    "---\n",
    "# Tarea Programada Número 3\n",
    "---\n",
    "#### Introducción:\n",
    "En este trabajo practico se aplicaran conceptos básicos de optimización, mínimos cuadrados y aprendizaje automático utilizando redes neuronales convencionales para resolver problemas de clasificación de imágenes todo utilizando el lenguaje Python, con la librería Pytorch.\n",
    "\n",
    "El objetivo del trabajo es poner en practica el conocimiento adquirido en\n",
    "clase sobre estos temas por medio de ejercicios que permitan al estudiante experimentar con ejemplos de uso."
   ]
  },
  {
   "cell_type": "markdown",
   "id": "intensive-genealogy",
   "metadata": {},
   "source": [
    "\n",
    "## A. Optimización (8 puntos)\n",
    " 1. Optimización de funciones por el descenso de gradiente: Recuerde que el descenso del gradiente es un algoritmo de optimización que permite converger hacia el valor mínimo de una función mediante un proceso iterativo. En aprendizaje automático este método se utiliza para minimizar una función que mide el error de predicción del modelo en el conjunto de datos.\n",
    "Para las siguientes funciones:\n",
    "\n",
    "\t - $ f_{1}(x, y) = (x - 0,7)^{2}+(y - 0.5)^{2} con: x, y \\in [-4 , 4] $\n",
    "\t - $ f_{2}(x, y) = xe^{(-x^{2}-y^{2})}    con: x, y \\in [-2 , 2] $\n",
    "\n",
    "Realice lo siguiente:"
   ]
  },
  {
   "cell_type": "markdown",
   "id": "marine-sending",
   "metadata": {},
   "source": [
    "1. (1 punto) Grafique las funciones y distinga si las funciones son convexas\n",
    "o no, y los puntos mínimos y regiones o puntos silla."
   ]
  },
  {
   "cell_type": "markdown",
   "id": "dressed-silly",
   "metadata": {},
   "source": [
    "2. (3 puntos) Implemente el algoritmo del descenso del gradiente con ten-\n",
    "sores de Pytorch"
   ]
  },
  {
   "cell_type": "markdown",
   "id": "mobile-invite",
   "metadata": {},
   "source": [
    "3. (4 puntos) Para cada función:\n",
    "\ta) Escoja un coeficiente de aprendizaje ? que permita la convergencia\n",
    "y reporte los resultados para 10 corridas, debe incluir:\n",
    "\t\t1) La cantidad de iteraciones necesarias para converge.\n",
    "\t\t2) El punto de convergencia.\n",
    "        3) Reporte si convergio al punto correcto."
   ]
  },
  {
   "cell_type": "markdown",
   "id": "stretch-weather",
   "metadata": {},
   "source": [
    "## B. Minimos cuadrados con tensores de Pytorch (6 puntos)\n",
    "El ejercicio se va a realizar utilizando el conjunto de datos «Default of Credit Card Clients Dataset. Default Payments of Credit Card Clients in Taiwan from 2005». Se adjunta un archivo con los datos (defaultofcredit). Una descripción completa del conjunto de datos esta disponible en \n",
    "https://www.kaggle.com/uciml/default-of-credit-card-clients-dataset."
   ]
  },
  {
   "cell_type": "markdown",
   "id": "social-roller",
   "metadata": {},
   "source": [
    "1. Cargue el conjunto de datos defaultofcredit.csv, los targets (b) correspon den a la columna: default_payment_next_month."
   ]
  },
  {
   "cell_type": "markdown",
   "id": "cathedral-russian",
   "metadata": {},
   "source": [
    "2.  (1 punto) Explore el conjunto de datos, visualice algunas estadisticas y\n",
    "verifique que no existan valores faltantes."
   ]
  },
  {
   "cell_type": "markdown",
   "id": "animated-theme",
   "metadata": {},
   "source": [
    "3. (2 punto) Implemente en python la función $ wopt = estimateOptimunW(X,b) $ la cual recibe los datos y sus respuestas $ (X y b) $ , y estima el vector de pesos optimo w_opt usando mínimos cuadrados. Debe programar en python a nivel de operaciones matriciales y/o vectoriales, no debe invocar a una función pre-construida que calcule mínimos cuadrados. Utilice la función estimateOptimumW para calcular el wopt para los datos."
   ]
  },
  {
   "cell_type": "markdown",
   "id": "invisible-spell",
   "metadata": {},
   "source": [
    "4. (2 punto) Implemente función forward, la cual estima las salidas del modelo al hacer $ T=f(Xw opt) $. Donde la función $ f(x) $ se refiere a la función de activación, que decide a cual clase pertenece cada muestra, según el resultado del producto punto de las muestra y los pesos óptimos, en este caso simplemente usando la función signo o escalón, es decir:\n",
    "\n",
    "    - $ f(x) = 1, si(x > 0) $\n",
    "    - $ f(x) = -1, si (x <= 0) $"
   ]
  },
  {
   "cell_type": "markdown",
   "id": "acting-skiing",
   "metadata": {},
   "source": [
    "5. (1 punto) Evalué el error de predicción utilizando la distancia euclidiana."
   ]
  },
  {
   "cell_type": "markdown",
   "id": "tired-contemporary",
   "metadata": {},
   "source": [
    "## C. Perceptron de una capa con tensores de Pytorch (12 puntos)\n",
    " 1. (10 puntos) Implemente el algoritmo del perceptron de una capa rescindiendo al máximo de estructuras de tipo for, usando en su lugar operaciones matriciales. **Debe implementarlo sin utilizar ninguna biblioteca, es decir en Pytorch no se puede usar ninguna clase o funcionalidad desarrollada por Pytorch o alguna otra biblioteca.**"
   ]
  },
  {
   "cell_type": "markdown",
   "id": "velvet-karen",
   "metadata": {},
   "source": [
    " 2. Reporte los resultados del clasificador: Para probar su clasificador uti-\n",
    "lice cumulos de datos generados con la funcion createData disponible en el\n",
    "cuaderno de Jupyter 003_LeastSquares_ejemploV2.ipynb (directorio 014 y 015 Mínimos cuadrados) la cual implementa la generación de datos aleatorios. Tales datos serán utilizados como datos de prueba. Parametrice la cantidad de muestras, matriz de covarianza y medias. La meta es lograr que el perceptor clasifique bien los datos generados. Es decir construís un separador lineal de las clases.\n",
    "\n",
    "\t2.1. (3 puntos) Realice 2 pruebas con distintas distancias de separación entre las muestras de las clases, con una prueba linealmente separable, y otra no, y documente el numero de muestras mal clasificadas y la cantidad de iteraciones para converger. Defina el conjunto de muestras de entrenamiento como el 70 % de las muestras aleatoriamente seleccionadas, y el resto utilícelas como muestras de prueba.\n",
    "    \n",
    "\t2.2. (2 puntos) Grafique el error o perdida de entrenamiento de al menos dos corridas, con todas las iteraciones de esas corridas. Ejemplo de gráfica de error por época:\n",
    "<img src=\"~datos/ejemplo_grafica.png\">"
   ]
  },
  {
   "cell_type": "markdown",
   "id": "spectacular-glucose",
   "metadata": {},
   "source": [
    "## D. Redes neuronales convolucionales (16 puntos)\n",
    "**Utilice PyTorch** para implementar una red neuronal profunda para clasificar imágenes utilizando capas convolucionales. \n",
    "Para el ejercicio seleccione alguno de los siguientes conjuntos de datos:\n",
    "\n",
    " - Natural Images: https://www.kaggle.com/prasunroy/natural-images\n",
    " - Dogs & Cats images: https://www.kaggle.com/chetankv/dogs-cats-images\n",
    " - The Oxford-IIIT Pet Dataset: https://www.kaggle.com/devdgohil/the-oxfordiiit-pet-dataset\n",
    "- Intel Image Classification: https://www.kaggle.com/puneet6060/intel-image-classification\n",
    "- Flower Color Images: https://www.kaggle.com/olgabelitskaya/flower-color-images\n",
    "\n",
    "Realice las siguientes actividades vistas en clase:"
   ]
  },
  {
   "cell_type": "markdown",
   "id": "dimensional-topic",
   "metadata": {},
   "source": [
    "1. (2 puntos) Cargar y normalizar los datos."
   ]
  },
  {
   "cell_type": "markdown",
   "id": "formed-segment",
   "metadata": {},
   "source": [
    "2. (2 puntos) Explorar los datos"
   ]
  },
  {
   "cell_type": "markdown",
   "id": "electronic-seven",
   "metadata": {},
   "source": [
    "3. (2 puntos) Definir la red convolucional"
   ]
  },
  {
   "cell_type": "markdown",
   "id": "differential-subsection",
   "metadata": {},
   "source": [
    "4. (2 puntos) Definir los hiperparametros, por ejemplo, función de perdida,\n",
    "el optimizador, entre otros."
   ]
  },
  {
   "cell_type": "markdown",
   "id": "binary-packet",
   "metadata": {},
   "source": [
    "5. (2 puntos) Entrenar la red"
   ]
  },
  {
   "cell_type": "markdown",
   "id": "adaptive-debate",
   "metadata": {},
   "source": [
    "6. (3 puntos) Evaluar el modelo resultante Accuracy, Precision, Recall y F1-score (investigue como se utilizan estas medidas en clasificación)"
   ]
  },
  {
   "cell_type": "markdown",
   "id": "rocky-bulgarian",
   "metadata": {},
   "source": [
    "7. (3 puntos) Presentar al menos cuatro conclusiones."
   ]
  }
 ],
 "metadata": {
  "kernelspec": {
   "display_name": "Python 3",
   "language": "python",
   "name": "python3"
  },
  "language_info": {
   "codemirror_mode": {
    "name": "ipython",
    "version": 3
   },
   "file_extension": ".py",
   "mimetype": "text/x-python",
   "name": "python",
   "nbconvert_exporter": "python",
   "pygments_lexer": "ipython3",
   "version": "3.8.5"
  }
 },
 "nbformat": 4,
 "nbformat_minor": 5
}
